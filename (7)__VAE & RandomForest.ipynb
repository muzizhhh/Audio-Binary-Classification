{
 "cells": [
  {
   "cell_type": "code",
   "execution_count": 1,
   "metadata": {},
   "outputs": [
    {
     "name": "stderr",
     "output_type": "stream",
     "text": [
      "Using TensorFlow backend.\n"
     ]
    }
   ],
   "source": [
    "import numpy as np\n",
    "import matplotlib.pyplot as plt\n",
    "from scipy.stats import norm\n",
    "from keras.layers import Input, Dense, Lambda, Flatten, Reshape,MaxPooling1D,Dropout\n",
    "from keras.layers import Conv1D,UpSampling1D\n",
    "from keras.models import Model\n",
    "from keras import backend as K\n",
    "from keras import metrics\n",
    "from keras.datasets import mnist\n",
    "from sklearn.preprocessing import Normalizer\n",
    "from sklearn.model_selection import train_test_split"
   ]
  },
  {
   "cell_type": "code",
   "execution_count": 2,
   "metadata": {},
   "outputs": [
    {
     "name": "stdout",
     "output_type": "stream",
     "text": [
      "(3199, 44100, 1) (800, 44100, 1)\n"
     ]
    }
   ],
   "source": [
    "from keras.datasets import mnist\n",
    "import pandas as pd\n",
    "import numpy as np\n",
    "from keras.datasets import mnist\n",
    "\n",
    "original_dim = 44100\n",
    "intermediate_dim = 128\n",
    "latent_dim = 20\n",
    "batch_size = 42\n",
    "epochs = 20\n",
    "epsilon_std = 1.0\n",
    "\n",
    "x_train = np.load('train_data.npy')\n",
    "y_train = pd.read_csv('train_labels.csv')\n",
    "y_train = np.array(y_train)\n",
    "y_train = y_train[:,1]\n",
    "\n",
    "x_train = x_train.astype('float32')\n",
    "\n",
    "# # normalization\n",
    "normalizer = Normalizer().fit(x_train)\n",
    "x_train = normalizer.transform(x_train)\n",
    "\n",
    "# reshape\n",
    "x_train = x_train.reshape(-1,original_dim,1)\n",
    "\n",
    "# train and validation split\n",
    "x_train, x_val, y_train, y_val = train_test_split(x_train, y_train, test_size=0.2,train_size=0.8,random_state=42)\n",
    "\n",
    "print(x_train.shape,x_val.shape)"
   ]
  },
  {
   "cell_type": "code",
   "execution_count": 3,
   "metadata": {},
   "outputs": [
    {
     "name": "stderr",
     "output_type": "stream",
     "text": [
      "WARNING: Logging before flag parsing goes to stderr.\n",
      "W0927 02:08:10.939479  9852 deprecation_wrapper.py:119] From C:\\Users\\admin\\Anaconda4\\envs\\tensorflow\\lib\\site-packages\\keras\\backend\\tensorflow_backend.py:66: The name tf.get_default_graph is deprecated. Please use tf.compat.v1.get_default_graph instead.\n",
      "\n",
      "W0927 02:08:10.975900  9852 deprecation_wrapper.py:119] From C:\\Users\\admin\\Anaconda4\\envs\\tensorflow\\lib\\site-packages\\keras\\backend\\tensorflow_backend.py:541: The name tf.placeholder is deprecated. Please use tf.compat.v1.placeholder instead.\n",
      "\n",
      "W0927 02:08:10.983873  9852 deprecation_wrapper.py:119] From C:\\Users\\admin\\Anaconda4\\envs\\tensorflow\\lib\\site-packages\\keras\\backend\\tensorflow_backend.py:4432: The name tf.random_uniform is deprecated. Please use tf.random.uniform instead.\n",
      "\n",
      "W0927 02:08:11.026762  9852 deprecation_wrapper.py:119] From C:\\Users\\admin\\Anaconda4\\envs\\tensorflow\\lib\\site-packages\\keras\\backend\\tensorflow_backend.py:4267: The name tf.nn.max_pool is deprecated. Please use tf.nn.max_pool2d instead.\n",
      "\n",
      "W0927 02:08:11.121510  9852 deprecation_wrapper.py:119] From C:\\Users\\admin\\Anaconda4\\envs\\tensorflow\\lib\\site-packages\\keras\\backend\\tensorflow_backend.py:148: The name tf.placeholder_with_default is deprecated. Please use tf.compat.v1.placeholder_with_default instead.\n",
      "\n",
      "W0927 02:08:11.141456  9852 deprecation.py:506] From C:\\Users\\admin\\Anaconda4\\envs\\tensorflow\\lib\\site-packages\\keras\\backend\\tensorflow_backend.py:3733: calling dropout (from tensorflow.python.ops.nn_ops) with keep_prob is deprecated and will be removed in a future version.\n",
      "Instructions for updating:\n",
      "Please use `rate` instead of `keep_prob`. Rate should be set to `rate = 1 - keep_prob`.\n",
      "W0927 02:08:11.210269  9852 deprecation_wrapper.py:119] From C:\\Users\\admin\\Anaconda4\\envs\\tensorflow\\lib\\site-packages\\keras\\backend\\tensorflow_backend.py:4409: The name tf.random_normal is deprecated. Please use tf.random.normal instead.\n",
      "\n"
     ]
    }
   ],
   "source": [
    "x = Input(shape=(x_train.shape[1],1)) \n",
    "x.reshape=(1,44100)\n",
    "\n",
    "conv_1 = Conv1D(32,\n",
    "                kernel_size=5, \n",
    "                activation='relu',\n",
    "                input_shape=(x_train.shape[1],1))(x)\n",
    "conv_1_maxpooling=MaxPooling1D(pool_size=2,strides=10)(conv_1)\n",
    "\n",
    "conv_2 = Conv1D(64,\n",
    "                kernel_size=5, \n",
    "                activation='relu')(conv_1_maxpooling)\n",
    "conv_2_maxpooling=MaxPooling1D(pool_size=50,strides=10)(conv_2)\n",
    "\n",
    "flat = Flatten()(conv_2_maxpooling) \n",
    "hidden = Dense(intermediate_dim, activation='relu')(flat)\n",
    "hidden_dropout = Dropout(0.5)(hidden)\n",
    "z_mean = Dense(latent_dim)(hidden_dropout)\n",
    "z_log_var = Dense(latent_dim)(hidden)\n",
    "\n",
    "def sampling(args):\n",
    "    z_mean, z_log_var = args\n",
    "    epsilon = K.random_normal(shape=(batch_size, latent_dim))\n",
    "    return z_mean + K.exp(z_log_var ) * epsilon \n",
    "\n",
    "z = Lambda(sampling, output_shape=(latent_dim,))([z_mean, z_log_var])"
   ]
  },
  {
   "cell_type": "code",
   "execution_count": 4,
   "metadata": {},
   "outputs": [
    {
     "name": "stdout",
     "output_type": "stream",
     "text": [
      "Model: \"encoder\"\n",
      "__________________________________________________________________________________________________\n",
      "Layer (type)                    Output Shape         Param #     Connected to                     \n",
      "==================================================================================================\n",
      "input_1 (InputLayer)            (None, 44100, 1)     0                                            \n",
      "__________________________________________________________________________________________________\n",
      "conv1d_1 (Conv1D)               (None, 44096, 32)    192         input_1[0][0]                    \n",
      "__________________________________________________________________________________________________\n",
      "max_pooling1d_1 (MaxPooling1D)  (None, 4410, 32)     0           conv1d_1[0][0]                   \n",
      "__________________________________________________________________________________________________\n",
      "conv1d_2 (Conv1D)               (None, 4406, 64)     10304       max_pooling1d_1[0][0]            \n",
      "__________________________________________________________________________________________________\n",
      "max_pooling1d_2 (MaxPooling1D)  (None, 436, 64)      0           conv1d_2[0][0]                   \n",
      "__________________________________________________________________________________________________\n",
      "flatten_1 (Flatten)             (None, 27904)        0           max_pooling1d_2[0][0]            \n",
      "__________________________________________________________________________________________________\n",
      "dense_1 (Dense)                 (None, 128)          3571840     flatten_1[0][0]                  \n",
      "__________________________________________________________________________________________________\n",
      "dropout_1 (Dropout)             (None, 128)          0           dense_1[0][0]                    \n",
      "__________________________________________________________________________________________________\n",
      "dense_2 (Dense)                 (None, 20)           2580        dropout_1[0][0]                  \n",
      "__________________________________________________________________________________________________\n",
      "dense_3 (Dense)                 (None, 20)           2580        dense_1[0][0]                    \n",
      "__________________________________________________________________________________________________\n",
      "lambda_1 (Lambda)               (None, 20)           0           dense_2[0][0]                    \n",
      "                                                                 dense_3[0][0]                    \n",
      "==================================================================================================\n",
      "Total params: 3,587,496\n",
      "Trainable params: 3,587,496\n",
      "Non-trainable params: 0\n",
      "__________________________________________________________________________________________________\n"
     ]
    }
   ],
   "source": [
    "encoder = Model(x, [z_mean, z_log_var, z], name='encoder')\n",
    "encoder.summary()"
   ]
  },
  {
   "cell_type": "code",
   "execution_count": 5,
   "metadata": {},
   "outputs": [
    {
     "name": "stdout",
     "output_type": "stream",
     "text": [
      "Model: \"decoder\"\n",
      "_________________________________________________________________\n",
      "Layer (type)                 Output Shape              Param #   \n",
      "=================================================================\n",
      "input_2 (InputLayer)         (None, 20)                0         \n",
      "_________________________________________________________________\n",
      "dense_4 (Dense)              (None, 128)               2688      \n",
      "_________________________________________________________________\n",
      "dense_5 (Dense)              (None, 44100)             5688900   \n",
      "_________________________________________________________________\n",
      "reshape_1 (Reshape)          (None, 44100, 1)          0         \n",
      "=================================================================\n",
      "Total params: 5,691,588\n",
      "Trainable params: 5,691,588\n",
      "Non-trainable params: 0\n",
      "_________________________________________________________________\n"
     ]
    }
   ],
   "source": [
    "latent_inputs = Input(shape=(latent_dim,))\n",
    "decoder_h = Dense(intermediate_dim, activation='relu')(latent_inputs)\n",
    "decoder_mean = Dense(original_dim, activation='sigmoid')(decoder_h)\n",
    "x_decoded_mean = Reshape([original_dim,1])(decoder_mean)\n",
    "\n",
    "# instantiate decoder model\n",
    "decoder = Model(latent_inputs, x_decoded_mean, name='decoder')\n",
    "decoder.summary()\n",
    "\n",
    "x_decoded_mean = decoder(encoder(x)[2])\n"
   ]
  },
  {
   "cell_type": "code",
   "execution_count": 6,
   "metadata": {},
   "outputs": [
    {
     "name": "stderr",
     "output_type": "stream",
     "text": [
      "W0927 02:08:11.516452  9852 deprecation_wrapper.py:119] From C:\\Users\\admin\\Anaconda4\\envs\\tensorflow\\lib\\site-packages\\keras\\optimizers.py:793: The name tf.train.Optimizer is deprecated. Please use tf.compat.v1.train.Optimizer instead.\n",
      "\n",
      "W0927 02:08:11.576345  9852 deprecation.py:323] From C:\\Users\\admin\\AppData\\Roaming\\Python\\Python37\\site-packages\\tensorflow\\python\\ops\\nn_impl.py:180: add_dispatch_support.<locals>.wrapper (from tensorflow.python.ops.array_ops) is deprecated and will be removed in a future version.\n",
      "Instructions for updating:\n",
      "Use tf.where in 2.0, which has the same broadcast rule as np.where\n"
     ]
    },
    {
     "name": "stdout",
     "output_type": "stream",
     "text": [
      "Model: \"model_1\"\n",
      "_________________________________________________________________\n",
      "Layer (type)                 Output Shape              Param #   \n",
      "=================================================================\n",
      "input_1 (InputLayer)         (None, 44100, 1)          0         \n",
      "_________________________________________________________________\n",
      "encoder (Model)              [(None, 20), (None, 20),  3587496   \n",
      "_________________________________________________________________\n",
      "decoder (Model)              (None, 44100, 1)          5691588   \n",
      "=================================================================\n",
      "Total params: 9,279,084\n",
      "Trainable params: 9,279,084\n",
      "Non-trainable params: 0\n",
      "_________________________________________________________________\n"
     ]
    }
   ],
   "source": [
    "def vae_loss(x, x_decoded_mean):\n",
    "    xent_loss = original_dim * metrics.binary_crossentropy(x, x_decoded_mean)\n",
    "    kl_loss = - 0.5 * K.sum(1 + z_log_var - K.square(z_mean) - K.exp(z_log_var), axis=-1) # Double check wtf this is supposed to be\n",
    "    xent_loss = K.mean(xent_loss)\n",
    "    return xent_loss + kl_loss\n",
    "\n",
    "vae = Model(x, x_decoded_mean)\n",
    "vae.compile(optimizer='adam', loss=vae_loss) # 'rmsprop'\n",
    "vae.summary()"
   ]
  },
  {
   "cell_type": "code",
   "execution_count": 7,
   "metadata": {},
   "outputs": [
    {
     "name": "stdout",
     "output_type": "stream",
     "text": [
      "(800, 44100, 1)\n",
      "(3199, 44100, 1)\n",
      "(42, 44100, 1)\n",
      "(?, 44100, 1)\n"
     ]
    }
   ],
   "source": [
    "print(x_val.shape)\n",
    "print(x_train.shape)\n",
    "print(x_decoded_mean.shape)\n",
    "print(x.shape)\n"
   ]
  },
  {
   "cell_type": "code",
   "execution_count": 8,
   "metadata": {},
   "outputs": [
    {
     "name": "stdout",
     "output_type": "stream",
     "text": [
      "Train on 3192 samples, validate on 798 samples\n",
      "Epoch 1/20\n",
      "3192/3192 [==============================] - 167s 52ms/step - loss: 3634.8436 - val_loss: 134.9785\n",
      "Epoch 2/20\n",
      "3192/3192 [==============================] - 175s 55ms/step - loss: 139.4962 - val_loss: 102.5886\n",
      "Epoch 3/20\n",
      "3192/3192 [==============================] - 207s 65ms/step - loss: 112.4163 - val_loss: 87.2268\n",
      "Epoch 4/20\n",
      "3192/3192 [==============================] - 252s 79ms/step - loss: 92.8989 - val_loss: 82.1261\n",
      "Epoch 5/20\n",
      "3192/3192 [==============================] - 195s 61ms/step - loss: 78.1167 - val_loss: 61.3885\n",
      "Epoch 6/20\n",
      "3192/3192 [==============================] - 194s 61ms/step - loss: 68.2706 - val_loss: 56.6482\n",
      "Epoch 7/20\n",
      "3192/3192 [==============================] - 193s 61ms/step - loss: 62.6515 - val_loss: 50.1120\n",
      "Epoch 8/20\n",
      "3192/3192 [==============================] - 180s 56ms/step - loss: 54.9231 - val_loss: 43.0624\n",
      "Epoch 9/20\n",
      "3192/3192 [==============================] - 192s 60ms/step - loss: 49.6557 - val_loss: 35.7177\n",
      "Epoch 10/20\n",
      "3192/3192 [==============================] - 165s 52ms/step - loss: 43.0478 - val_loss: 36.7234\n",
      "Epoch 11/20\n",
      "3192/3192 [==============================] - 168s 53ms/step - loss: 39.6239 - val_loss: 30.1195\n",
      "Epoch 12/20\n",
      "3192/3192 [==============================] - 162s 51ms/step - loss: 35.1444 - val_loss: 26.4533\n",
      "Epoch 13/20\n",
      "3192/3192 [==============================] - 167s 52ms/step - loss: 30.4796 - val_loss: 25.9307\n",
      "Epoch 14/20\n",
      "3192/3192 [==============================] - 162s 51ms/step - loss: 25.8790 - val_loss: 20.4582\n",
      "Epoch 15/20\n",
      "3192/3192 [==============================] - 166s 52ms/step - loss: 22.7523 - val_loss: 18.8209\n",
      "Epoch 16/20\n",
      "3192/3192 [==============================] - 164s 52ms/step - loss: 19.7583 - val_loss: 13.1385\n",
      "Epoch 17/20\n",
      "3192/3192 [==============================] - 169s 53ms/step - loss: 16.7039 - val_loss: 10.9487\n",
      "Epoch 18/20\n",
      "3192/3192 [==============================] - 172s 54ms/step - loss: 13.9350 - val_loss: 9.5868\n",
      "Epoch 19/20\n",
      "3192/3192 [==============================] - 168s 53ms/step - loss: 12.2598 - val_loss: 8.3742\n",
      "Epoch 20/20\n",
      "3192/3192 [==============================] - 171s 54ms/step - loss: 8.8913 - val_loss: 6.3124\n"
     ]
    },
    {
     "data": {
      "text/plain": [
       "<matplotlib.axes._subplots.AxesSubplot at 0x1a29074d2e8>"
      ]
     },
     "execution_count": 8,
     "metadata": {},
     "output_type": "execute_result"
    },
    {
     "data": {
      "image/png": "[encoded data removed]",
      "text/plain": [
       "<Figure size 432x288 with 1 Axes>"
      ]
     },
     "metadata": {
      "needs_background": "light"
     },
     "output_type": "display_data"
    }
   ],
   "source": [
    "hist=vae.fit(x_train[:3192,:], x_train[:3192,:],\n",
    "             shuffle=False,\n",
    "             epochs=20,\n",
    "             batch_size=batch_size,\n",
    "             validation_data=(x_val[:798,:],x_val[:798,:]))\n",
    "\n",
    "pd.DataFrame(hist.history).plot()"
   ]
  },
  {
   "cell_type": "code",
   "execution_count": 9,
   "metadata": {},
   "outputs": [
    {
     "name": "stdout",
     "output_type": "stream",
     "text": [
      "(3199, 20)\n"
     ]
    }
   ],
   "source": [
    "encoder = Model(x, z_mean)\n",
    "z_test = encoder.predict(x_train, batch_size=batch_size)\n",
    "print(z_test.shape)"
   ]
  },
  {
   "cell_type": "code",
   "execution_count": 10,
   "metadata": {},
   "outputs": [
    {
     "name": "stdout",
     "output_type": "stream",
     "text": [
      "(3199, 44100)\n",
      "(800, 44100)\n",
      "(800, 1)\n"
     ]
    }
   ],
   "source": [
    "#decoder = Model(latent_inputs,x_decoded_mean)\n",
    "\n",
    "pred_train = decoder.predict(z_test)\n",
    "decoded_train = pred_train.reshape(3199,44100)\n",
    "x_test = x_val.reshape(800,44100)\n",
    "y_test = y_val.reshape(800,1)\n",
    "print(decoded_train.shape)\n",
    "print(x_test.shape)\n",
    "print(y_test.shape)"
   ]
  },
  {
   "cell_type": "code",
   "execution_count": 11,
   "metadata": {},
   "outputs": [
    {
     "name": "stderr",
     "output_type": "stream",
     "text": [
      "C:\\Users\\admin\\Anaconda4\\envs\\tensorflow\\lib\\site-packages\\sklearn\\ensemble\\forest.py:245: FutureWarning: The default value of n_estimators will change from 10 in version 0.20 to 100 in 0.22.\n",
      "  \"10 in version 0.20 to 100 in 0.22.\", FutureWarning)\n"
     ]
    },
    {
     "name": "stdout",
     "output_type": "stream",
     "text": [
      "(800,)\n"
     ]
    }
   ],
   "source": [
    "from sklearn import model_selection\n",
    "from sklearn.ensemble import RandomForestClassifier\n",
    "\n",
    "# random forest model creation\n",
    "rfc = RandomForestClassifier()\n",
    "rfc.fit(decoded_train,y_train)\n",
    "# predictions\n",
    "rfc_predict = rfc.predict(x_test)\n",
    "print(rfc_predict.shape)"
   ]
  },
  {
   "cell_type": "code",
   "execution_count": 13,
   "metadata": {},
   "outputs": [
    {
     "name": "stdout",
     "output_type": "stream",
     "text": [
      "=== Confusion Matrix ===\n",
      "[[ 90 612]\n",
      " [ 11  87]]\n",
      "\n",
      "\n",
      "=== Classification Report ===\n",
      "              precision    recall  f1-score   support\n",
      "\n",
      "           0       0.89      0.13      0.22       702\n",
      "           1       0.12      0.89      0.22        98\n",
      "\n",
      "    accuracy                           0.22       800\n",
      "   macro avg       0.51      0.51      0.22       800\n",
      "weighted avg       0.80      0.22      0.22       800\n",
      "\n",
      "\n",
      "\n",
      "=== All AUC Scores ===\n",
      "[0.87265918 0.87265918 0.87593985]\n",
      "\n",
      "\n",
      "=== Mean AUC Score ===\n",
      "Mean AUC Score - Random Forest:  0.8737527338946617\n"
     ]
    },
    {
     "name": "stderr",
     "output_type": "stream",
     "text": [
      "C:\\Users\\admin\\Anaconda4\\envs\\tensorflow\\lib\\site-packages\\sklearn\\model_selection\\_split.py:1978: FutureWarning: The default value of cv will change from 3 to 5 in version 0.22. Specify it explicitly to silence this warning.\n",
      "  warnings.warn(CV_WARNING, FutureWarning)\n",
      "C:\\Users\\admin\\Anaconda4\\envs\\tensorflow\\lib\\site-packages\\sklearn\\model_selection\\_validation.py:516: DataConversionWarning: A column-vector y was passed when a 1d array was expected. Please change the shape of y to (n_samples,), for example using ravel().\n",
      "  estimator.fit(X_train, y_train, **fit_params)\n",
      "C:\\Users\\admin\\Anaconda4\\envs\\tensorflow\\lib\\site-packages\\sklearn\\model_selection\\_validation.py:516: DataConversionWarning: A column-vector y was passed when a 1d array was expected. Please change the shape of y to (n_samples,), for example using ravel().\n",
      "  estimator.fit(X_train, y_train, **fit_params)\n",
      "C:\\Users\\admin\\Anaconda4\\envs\\tensorflow\\lib\\site-packages\\sklearn\\model_selection\\_validation.py:516: DataConversionWarning: A column-vector y was passed when a 1d array was expected. Please change the shape of y to (n_samples,), for example using ravel().\n",
      "  estimator.fit(X_train, y_train, **fit_params)\n"
     ]
    }
   ],
   "source": [
    "from sklearn.model_selection import cross_val_score\n",
    "from sklearn.metrics import classification_report, confusion_matrix\n",
    "#y_test=y_test.reshape(800,1)\n",
    "rfc_cv_score = cross_val_score(rfc, y_test, rfc_predict)\n",
    "print(\"=== Confusion Matrix ===\")\n",
    "print(confusion_matrix(y_test, rfc_predict))\n",
    "print('\\n')\n",
    "print(\"=== Classification Report ===\")\n",
    "print(classification_report(y_test, rfc_predict))\n",
    "print('\\n')\n",
    "print(\"=== All AUC Scores ===\")\n",
    "print(rfc_cv_score)\n",
    "print('\\n')\n",
    "print(\"=== Mean AUC Score ===\")\n",
    "print(\"Mean AUC Score - Random Forest: \", rfc_cv_score.mean())"
   ]
  },
  {
   "cell_type": "code",
   "execution_count": null,
   "metadata": {},
   "outputs": [],
   "source": [
    "#20 --- 0.87\n",
    "#10 --- 0.70\n",
    "#50 --- 0.59"
   ]
  },
  {
   "cell_type": "code",
   "execution_count": null,
   "metadata": {},
   "outputs": [],
   "source": []
  },
  {
   "cell_type": "code",
   "execution_count": null,
   "metadata": {},
   "outputs": [],
   "source": []
  },
  {
   "cell_type": "code",
   "execution_count": null,
   "metadata": {},
   "outputs": [],
   "source": []
  }
 ],
 "metadata": {
  "kernelspec": {
   "display_name": "Python 3",
   "language": "python",
   "name": "python3"
  },
  "language_info": {
   "codemirror_mode": {
    "name": "ipython",
    "version": 3
   },
   "file_extension": ".py",
   "mimetype": "text/x-python",
   "name": "python",
   "nbconvert_exporter": "python",
   "pygments_lexer": "ipython3",
   "version": "3.7.3"
  }
 },
 "nbformat": 4,
 "nbformat_minor": 2
}
