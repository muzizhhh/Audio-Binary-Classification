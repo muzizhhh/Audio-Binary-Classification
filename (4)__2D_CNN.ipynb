{
 "cells": [
  {
   "cell_type": "code",
   "execution_count": 10,
   "metadata": {},
   "outputs": [],
   "source": [
    "import numpy as np\n",
    "import pandas as pd\n",
    "import matplotlib.pyplot as plt\n",
    "from sklearn.preprocessing import Normalizer\n",
    "from keras.models import Sequential\n",
    "from keras.layers import Dense, Dropout, Activation, Flatten, BatchNormalization\n",
    "from keras.layers import Conv2D, MaxPooling2D\n",
    "from keras.utils import np_utils\n",
    "from keras import optimizers\n",
    "import tensorflow as tf\n",
    "from tensorflow.keras.callbacks import TensorBoard\n",
    "from keras import regularizers\n",
    "from glob import glob\n",
    "import librosa.display\n",
    "import librosa"
   ]
  },
  {
   "cell_type": "code",
   "execution_count": 11,
   "metadata": {
    "scrolled": true
   },
   "outputs": [
    {
     "name": "stdout",
     "output_type": "stream",
     "text": [
      "(3999, 210, 210, 1)\n"
     ]
    }
   ],
   "source": [
    "# import competition dataset\n",
    "x_train = np.load('train_data.npy')\n",
    "y_train = pd.read_csv('train_labels.csv')\n",
    "y_train = np.array(y_train)\n",
    "y_train = y_train[:,1]\n",
    "\n",
    "x_test = np.load('test_data.npy')\n",
    "x_train = x_train.astype('float32')\n",
    "x_test = x_test.astype('float32')\n",
    "\n",
    "# reshape\n",
    "x_train = x_train.reshape(-1,210,210,1)\n",
    "x_test = x_test.reshape(-1,210,210,1)\n",
    "\n",
    "#print(x_train)\n",
    "print(x_train.shape)\n",
    "\n",
    "y_train = np_utils.to_categorical(y_train,2)"
   ]
  },
  {
   "cell_type": "code",
   "execution_count": null,
   "metadata": {},
   "outputs": [],
   "source": [
    "# #Normalization \n",
    "\n",
    "# x_min = x_train.min(axis=(1, 2), keepdims=True)\n",
    "# x_max = x_train.max(axis=(1, 2), keepdims=True)\n",
    "# x_train = (x_train - x_min)/(x_max-x_min)\n",
    "# print(x_train.shape)\n"
   ]
  },
  {
   "cell_type": "code",
   "execution_count": 31,
   "metadata": {},
   "outputs": [],
   "source": [
    "model = Sequential()\n",
    "\n",
    "model.add(Conv2D(32, kernel_size=(5,5),\n",
    "                 activation='relu',\n",
    "                 kernel_regularizer=regularizers.l1(0.001),\n",
    "                 input_shape=(210,210,1)))\n",
    "model.add(BatchNormalization())\n",
    "model.add(MaxPooling2D(pool_size=5))\n",
    "\n",
    "model.add(Conv2D(64, (5, 5), activation='relu',\n",
    "          kernel_regularizer=regularizers.l1(0.001)))\n",
    "model.add(BatchNormalization())\n",
    "#model.add(MaxPooling2D(pool_size=7))\n",
    "\n",
    "model.add(Conv2D(128, (5, 5), activation='relu'))\n",
    "model.add(BatchNormalization())\n",
    "model.add(MaxPooling2D(pool_size=5))\n",
    "\n",
    "\n",
    "model.add(Flatten())\n",
    "model.add(Dense(128, activation='relu'))\n",
    "model.add(Dropout(0.5))\n",
    "model.add(Dense(2, activation='sigmoid'))"
   ]
  },
  {
   "cell_type": "code",
   "execution_count": 32,
   "metadata": {},
   "outputs": [
    {
     "name": "stdout",
     "output_type": "stream",
     "text": [
      "_________________________________________________________________\n",
      "Layer (type)                 Output Shape              Param #   \n",
      "=================================================================\n",
      "conv2d_28 (Conv2D)           (None, 206, 206, 32)      832       \n",
      "_________________________________________________________________\n",
      "batch_normalization_19 (Batc (None, 206, 206, 32)      128       \n",
      "_________________________________________________________________\n",
      "max_pooling2d_13 (MaxPooling (None, 41, 41, 32)        0         \n",
      "_________________________________________________________________\n",
      "conv2d_29 (Conv2D)           (None, 37, 37, 64)        51264     \n",
      "_________________________________________________________________\n",
      "batch_normalization_20 (Batc (None, 37, 37, 64)        256       \n",
      "_________________________________________________________________\n",
      "conv2d_30 (Conv2D)           (None, 33, 33, 128)       204928    \n",
      "_________________________________________________________________\n",
      "batch_normalization_21 (Batc (None, 33, 33, 128)       512       \n",
      "_________________________________________________________________\n",
      "max_pooling2d_14 (MaxPooling (None, 6, 6, 128)         0         \n",
      "_________________________________________________________________\n",
      "flatten_7 (Flatten)          (None, 4608)              0         \n",
      "_________________________________________________________________\n",
      "dense_13 (Dense)             (None, 128)               589952    \n",
      "_________________________________________________________________\n",
      "dropout_7 (Dropout)          (None, 128)               0         \n",
      "_________________________________________________________________\n",
      "dense_14 (Dense)             (None, 2)                 258       \n",
      "=================================================================\n",
      "Total params: 848,130\n",
      "Trainable params: 847,682\n",
      "Non-trainable params: 448\n",
      "_________________________________________________________________\n"
     ]
    }
   ],
   "source": [
    "model.summary()"
   ]
  },
  {
   "cell_type": "code",
   "execution_count": 33,
   "metadata": {},
   "outputs": [],
   "source": [
    "# compile model\n",
    "adam = optimizers.Adam(lr=.0001) \n",
    "model.compile(loss='binary_crossentropy', \n",
    "              optimizer=adam,\n",
    "              metrics=['accuracy'])"
   ]
  },
  {
   "cell_type": "code",
   "execution_count": 34,
   "metadata": {},
   "outputs": [
    {
     "name": "stdout",
     "output_type": "stream",
     "text": [
      "(3999, 210, 210, 1) (3999, 2)\n"
     ]
    }
   ],
   "source": [
    "print(x_train.shape,y_train.shape)"
   ]
  },
  {
   "cell_type": "code",
   "execution_count": 35,
   "metadata": {},
   "outputs": [
    {
     "name": "stdout",
     "output_type": "stream",
     "text": [
      "Train on 3599 samples, validate on 400 samples\n",
      "Epoch 1/30\n",
      "3599/3599 [==============================] - 173s 48ms/step - loss: 1.6788 - acc: 0.8979 - val_loss: 1.4517 - val_acc: 0.9213\n",
      "Epoch 2/30\n",
      "3599/3599 [==============================] - 164s 46ms/step - loss: 1.4490 - acc: 0.9311 - val_loss: 1.3692 - val_acc: 0.9550\n",
      "Epoch 3/30\n",
      "3599/3599 [==============================] - 166s 46ms/step - loss: 1.3753 - acc: 0.9417 - val_loss: 1.3241 - val_acc: 0.9475\n",
      "Epoch 4/30\n",
      "3599/3599 [==============================] - 179s 50ms/step - loss: 1.3076 - acc: 0.9508 - val_loss: 1.2790 - val_acc: 0.9500\n",
      "Epoch 5/30\n",
      "3599/3599 [==============================] - 180s 50ms/step - loss: 1.2530 - acc: 0.9503 - val_loss: 1.2140 - val_acc: 0.9625\n",
      "Epoch 6/30\n",
      "3599/3599 [==============================] - 176s 49ms/step - loss: 1.1992 - acc: 0.9537 - val_loss: 1.1588 - val_acc: 0.9600\n",
      "Epoch 7/30\n",
      "3599/3599 [==============================] - 166s 46ms/step - loss: 1.1348 - acc: 0.9615 - val_loss: 1.0937 - val_acc: 0.9700\n",
      "Epoch 8/30\n",
      "3599/3599 [==============================] - 169s 47ms/step - loss: 1.0679 - acc: 0.9657 - val_loss: 1.0476 - val_acc: 0.9625\n",
      "Epoch 9/30\n",
      "3599/3599 [==============================] - 172s 48ms/step - loss: 1.0168 - acc: 0.9664 - val_loss: 1.0410 - val_acc: 0.9463\n",
      "Epoch 10/30\n",
      "3599/3599 [==============================] - 174s 48ms/step - loss: 0.9726 - acc: 0.9655 - val_loss: 0.9427 - val_acc: 0.9663\n",
      "Epoch 11/30\n",
      "3599/3599 [==============================] - 180s 50ms/step - loss: 0.9092 - acc: 0.9737 - val_loss: 0.9282 - val_acc: 0.9563\n",
      "Epoch 12/30\n",
      "3599/3599 [==============================] - 177s 49ms/step - loss: 0.8702 - acc: 0.9679 - val_loss: 0.8563 - val_acc: 0.9625\n",
      "Epoch 13/30\n",
      "3599/3599 [==============================] - 173s 48ms/step - loss: 0.8277 - acc: 0.9683 - val_loss: 0.8264 - val_acc: 0.9637\n",
      "Epoch 14/30\n",
      "3599/3599 [==============================] - 179s 50ms/step - loss: 0.7698 - acc: 0.9760 - val_loss: 0.8124 - val_acc: 0.9625\n",
      "Epoch 15/30\n",
      "3599/3599 [==============================] - 184s 51ms/step - loss: 0.7308 - acc: 0.9778 - val_loss: 0.8742 - val_acc: 0.9137\n",
      "Epoch 16/30\n",
      "3599/3599 [==============================] - 173s 48ms/step - loss: 0.7085 - acc: 0.9710 - val_loss: 0.7584 - val_acc: 0.9587\n",
      "Epoch 17/30\n",
      "3599/3599 [==============================] - 177s 49ms/step - loss: 0.6603 - acc: 0.9792 - val_loss: 0.6867 - val_acc: 0.9700\n",
      "Epoch 18/30\n",
      "3599/3599 [==============================] - 175s 49ms/step - loss: 0.6243 - acc: 0.9772 - val_loss: 0.6598 - val_acc: 0.9650\n",
      "Epoch 19/30\n",
      "3599/3599 [==============================] - 172s 48ms/step - loss: 0.6061 - acc: 0.9747 - val_loss: 0.6223 - val_acc: 0.9613\n",
      "Epoch 20/30\n",
      "3599/3599 [==============================] - 179s 50ms/step - loss: 0.5662 - acc: 0.9792 - val_loss: 0.6056 - val_acc: 0.9600\n",
      "Epoch 21/30\n",
      "3599/3599 [==============================] - 166s 46ms/step - loss: 0.5377 - acc: 0.9796 - val_loss: 0.5785 - val_acc: 0.9688\n",
      "Epoch 22/30\n",
      "3599/3599 [==============================] - 165s 46ms/step - loss: 0.5043 - acc: 0.9857 - val_loss: 0.5528 - val_acc: 0.9587\n",
      "Epoch 23/30\n",
      "3599/3599 [==============================] - 164s 46ms/step - loss: 0.4824 - acc: 0.9825 - val_loss: 0.5312 - val_acc: 0.9712\n",
      "Epoch 24/30\n",
      "3599/3599 [==============================] - 164s 45ms/step - loss: 0.4575 - acc: 0.9865 - val_loss: 0.5429 - val_acc: 0.9663\n",
      "Epoch 25/30\n",
      "3599/3599 [==============================] - 179s 50ms/step - loss: 0.4492 - acc: 0.9811 - val_loss: 0.4844 - val_acc: 0.9637\n",
      "Epoch 26/30\n",
      "3599/3599 [==============================] - 173s 48ms/step - loss: 0.4198 - acc: 0.9843 - val_loss: 0.4486 - val_acc: 0.9675\n",
      "Epoch 27/30\n",
      "3599/3599 [==============================] - 175s 49ms/step - loss: 0.3984 - acc: 0.9868 - val_loss: 0.4816 - val_acc: 0.9663\n",
      "Epoch 28/30\n",
      "3599/3599 [==============================] - 169s 47ms/step - loss: 0.3842 - acc: 0.9843 - val_loss: 0.4898 - val_acc: 0.9625\n",
      "Epoch 29/30\n",
      "3599/3599 [==============================] - 164s 46ms/step - loss: 0.3714 - acc: 0.9825 - val_loss: 0.4218 - val_acc: 0.9637\n",
      "Epoch 30/30\n",
      "3599/3599 [==============================] - 164s 46ms/step - loss: 0.3446 - acc: 0.9883 - val_loss: 0.4493 - val_acc: 0.9513\n"
     ]
    },
    {
     "data": {
      "text/plain": [
       "<keras.callbacks.History at 0x176340f7d30>"
      ]
     },
     "execution_count": 35,
     "metadata": {},
     "output_type": "execute_result"
    }
   ],
   "source": [
    "from keras.callbacks import EarlyStopping\n",
    "EarlyStopping = EarlyStopping(monitor='val_loss',patience=5,verbose=0,mode='auto')\n",
    "model.fit(x_train, y_train, batch_size=32, epochs=30, validation_split=0.1,callbacks=[EarlyStopping])"
   ]
  },
  {
   "cell_type": "code",
   "execution_count": null,
   "metadata": {},
   "outputs": [],
   "source": [
    "# make prediction\n",
    "y_predict = model.predict_classes(x_test)\n",
    "print(y_predict[:500])"
   ]
  },
  {
   "cell_type": "code",
   "execution_count": null,
   "metadata": {},
   "outputs": [],
   "source": [
    "# save the prediction to csv\n",
    "prediction = pd.DataFrame(y_predict,columns=['label']).to_csv('submission_2dCNN')"
   ]
  },
  {
   "cell_type": "code",
   "execution_count": null,
   "metadata": {},
   "outputs": [],
   "source": [
    "model.save(\"2dCNN_savemodel.h5\")\n",
    "print(\"Saved model to disk\")"
   ]
  },
  {
   "cell_type": "code",
   "execution_count": null,
   "metadata": {},
   "outputs": [],
   "source": [
    "#// loss: 0.0456 - acc: 0.9829 - val_loss: 0.0777 - val_acc: 0.9738\n",
    "#//loss: 0.0399 - acc: 0.9867 - val_loss: 0.1112 - val_acc: 0.9625\n",
    "# add l1 //loss: 0.3446 - acc: 0.9883 - val_loss: 0.4493 - val_acc: 0.9513"
   ]
  },
  {
   "cell_type": "code",
   "execution_count": null,
   "metadata": {},
   "outputs": [],
   "source": []
  },
  {
   "cell_type": "code",
   "execution_count": null,
   "metadata": {},
   "outputs": [],
   "source": []
  },
  {
   "cell_type": "code",
   "execution_count": null,
   "metadata": {},
   "outputs": [],
   "source": []
  },
  {
   "cell_type": "code",
   "execution_count": null,
   "metadata": {},
   "outputs": [],
   "source": []
  }
 ],
 "metadata": {
  "kernelspec": {
   "display_name": "Python 3",
   "language": "python",
   "name": "python3"
  },
  "language_info": {
   "codemirror_mode": {
    "name": "ipython",
    "version": 3
   },
   "file_extension": ".py",
   "mimetype": "text/x-python",
   "name": "python",
   "nbconvert_exporter": "python",
   "pygments_lexer": "ipython3",
   "version": "3.7.3"
  }
 },
 "nbformat": 4,
 "nbformat_minor": 2
}
